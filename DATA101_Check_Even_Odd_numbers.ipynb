{
  "nbformat": 4,
  "nbformat_minor": 0,
  "metadata": {
    "colab": {
      "name": "DATA101_Check Even / Odd numbers",
      "provenance": [],
      "authorship_tag": "ABX9TyNw4nLdPnUgD8xQ8X0gKzbd",
      "include_colab_link": true
    },
    "kernelspec": {
      "name": "python3",
      "display_name": "Python 3"
    },
    "language_info": {
      "name": "python"
    }
  },
  "cells": [
    {
      "cell_type": "markdown",
      "metadata": {
        "id": "view-in-github",
        "colab_type": "text"
      },
      "source": [
        "<a href=\"https://colab.research.google.com/github/Thivadee19/Check-Even-Odd-numbers/blob/main/DATA101_Check_Even_Odd_numbers.ipynb\" target=\"_parent\"><img src=\"https://colab.research.google.com/assets/colab-badge.svg\" alt=\"Open In Colab\"/></a>"
      ]
    },
    {
      "cell_type": "code",
      "metadata": {
        "id": "XwcajisfDqcf"
      },
      "source": [
        "print ('please put your number in the blank area')\n",
        "user_input = int(input () )\n",
        "\n",
        "\n",
        "\n",
        "if user_input == 0: \n",
        " print ('not Even not Odd number')\n",
        "\n",
        "elif user_input%2==0:\n",
        " print ('Even')\n",
        "\n",
        "else :\n",
        " print ('Odd')\n"
      ],
      "execution_count": null,
      "outputs": []
    }
  ]
}